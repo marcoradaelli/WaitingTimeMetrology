{
 "cells": [
  {
   "cell_type": "code",
   "execution_count": 1,
   "metadata": {},
   "outputs": [],
   "source": [
    "using LinearAlgebra"
   ]
  },
  {
   "cell_type": "code",
   "execution_count": 122,
   "metadata": {},
   "outputs": [],
   "source": [
    "# Model parameters.\n",
    "γ = 1\n",
    "δ = 0\n",
    "Ω = 1\n",
    "dΩ = 1e-4\n",
    "\n",
    "# Initial state.\n",
    "ψ0 = complex(float([1 ; 0]))\n",
    "\n",
    "# Simulation parameters.\n",
    "number_trajectories = 10\n",
    "t_final = 50.\n",
    "dt = 0.01;"
   ]
  },
  {
   "cell_type": "code",
   "execution_count": 123,
   "metadata": {},
   "outputs": [],
   "source": [
    "# Operators.\n",
    "σ = complex(float([0 1 ; 0 0]))\n",
    "σz = complex(float([1 0 ; 0 -1]))\n",
    "\n",
    "# Hamiltonian.\n",
    "H = - δ * σ' * σ + Ω/2. * (σ' + σ)\n",
    "# Jump operator.\n",
    "M1 = sqrt(γ) * σ;\n",
    "\n",
    "# Displaced operators for derivatives.\n",
    "Hp = - δ * σ' * σ + (Ω + dΩ)/2. * (σ + σ')\n",
    "Hm = - δ * σ' * σ + (Ω - dΩ)/2. * (σ + σ')\n",
    "M1p = M1\n",
    "M1m = M1\n",
    "\n",
    "# Jumps operators have to be passed as a list.\n",
    "M_l = [M1]\n",
    "Mp_l = [M1p]\n",
    "Mm_l = [M1m];"
   ]
  },
  {
   "cell_type": "code",
   "execution_count": 124,
   "metadata": {},
   "outputs": [
    {
     "data": {
      "text/plain": [
       "Bool"
      ]
     },
     "execution_count": 124,
     "metadata": {},
     "output_type": "execute_result"
    }
   ],
   "source": [
    "typeof(true)"
   ]
  },
  {
   "cell_type": "code",
   "execution_count": 129,
   "metadata": {},
   "outputs": [
    {
     "ename": "LoadError",
     "evalue": "syntax: unexpected \"end\"",
     "output_type": "error",
     "traceback": [
      "syntax: unexpected \"end\"",
      "",
      "Stacktrace:",
      " [1] top-level scope",
      "   @ In[129]:91",
      " [2] eval",
      "   @ ./boot.jl:373 [inlined]",
      " [3] include_string(mapexpr::typeof(REPL.softscope), mod::Module, code::String, filename::String)",
      "   @ Base ./loading.jl:1196"
     ]
    }
   ],
   "source": [
    "function gillespie_fisher(H::Matrix{ComplexF64},\n",
    "        Hp::Matrix{ComplexF64},\n",
    "        Hm::Matrix{ComplexF64},\n",
    "        M_l::Vector{Matrix{ComplexF64}},\n",
    "        Mp_l::Vector{Matrix{ComplexF64}},\n",
    "        Mm_l::Vector{Matrix{ComplexF64}},\n",
    "        dθ::Float64,\n",
    "        ψ0::Vector{ComplexF64},\n",
    "        t_final::Float64,\n",
    "        dt::Float64,\n",
    "        number_trajectories::Int64,\n",
    "        verbose::Bool=True)\n",
    "    \n",
    "    println(\"Gillespie-Fisher method in Julia - Welcome\")\n",
    "    println(\"=> Starting the pre-computation stage\")\n",
    "    t_range = 0.:dt:t_final\n",
    "    \n",
    "    # Constructs the overall jump operator.\n",
    "    J = zero(M_l[1])\n",
    "    for M in M_l\n",
    "        J += M' * M\n",
    "    end\n",
    "    # Effective (non-Hermitian) Hamiltonian.\n",
    "    He = H - 1im/2. * J\n",
    "    \n",
    "    # Constructs the no-jump evolution operators for all the relevant times.\n",
    "    V = Matrix{ComplexF64}[] # List of the no-jump evolution operators.\n",
    "    Qs = Matrix{ComplexF64}[] # List of the non-state-dependent part of the waiting time distribution.\n",
    "    for t in t_range\n",
    "        ev_op = exp(-1im * He * t)\n",
    "        push!(V, ev_op)\n",
    "        nsd_wtd = ev_op' * J * ev_op\n",
    "        push!(Qs, nsd_wtd)\n",
    "    end\n",
    "    \n",
    "    # Prints the matrix norm for the latest Qs.\n",
    "    error = norm(last(Qs))\n",
    "    println(\"-> Truncation error given by norm of latest Qs matrix: \" * string(error))\n",
    "    \n",
    "    # Displaced version of the effective Hamiltonian.\n",
    "    Jp = zero(Mp_l[1])\n",
    "    for Mp in Mp_l\n",
    "        Jp += Mp' * Mp\n",
    "    end\n",
    "    Hep = Hp - 1im/2. * Jp\n",
    "    Jm = zero(Mm_l[1])\n",
    "    for Mm in Mm_l\n",
    "        Jm += Mm' * Mm\n",
    "    end\n",
    "    Hem = Hm - 1im/2. * Jm\n",
    "    \n",
    "    # Vector of the derivatives of the evolution operator wrt the parameter.\n",
    "    Vdot = Matrix{ComplexF64}[]\n",
    "    for t in t_range\n",
    "        vd = (exp(-1im * Hep * t) - exp(-1im * Hem * t)) / (2 * dθ)\n",
    "        push!(Vdot, vd)\n",
    "    end\n",
    "    # Derivatives of all the jump operators.\n",
    "    Mdot = Matrix{ComplexF64}[]\n",
    "    for n_M in eachindex(M_l)\n",
    "        push!(Mdot, (Mp_l[n_M] - Mm_l[n_M]) / (2 * dθ))\n",
    "    end\n",
    "    # Precomputation of all the derivatives of MkV(t).\n",
    "    Δ = Array{Matrix{ComplexF64}}[]\n",
    "    for n_M in eachindex(M_l)\n",
    "        fixed_M = Matrix{ComplexF64}[]\n",
    "        for n_t in eachindex(t_range)\n",
    "            obj = Mdot[n_M] * V[n_t] + M_l[n_M] * Vdot[n_t]\n",
    "            push!(fixed_M, obj)\n",
    "        end\n",
    "        push!(Δ, fixed_M)\n",
    "    end\n",
    "    \n",
    "    println(\"=> Starting the evolution cycle.\")\n",
    "    \n",
    "    # List for the results.\n",
    "    trajectories_results = Array{Dict{String, Any}}[]\n",
    "    \n",
    "    # Cycle over the trajectories.\n",
    "    for trajectory in 1:number_trajectories\n",
    "        println(\"-> Starting trajectory \" * string(trajectory))\n",
    "        \n",
    "        # Initial state.\n",
    "        ψ = ψ0\n",
    "        # Absolute time.\n",
    "        τ = 0\n",
    "        # Initial ξ matrix (same size and type as the Hamiltonian).\n",
    "        ξ = zero(H)\n",
    "        \n",
    "        results = \n",
    "    end\n",
    "end"
   ]
  },
  {
   "cell_type": "code",
   "execution_count": 130,
   "metadata": {},
   "outputs": [
    {
     "name": "stdout",
     "output_type": "stream",
     "text": [
      "Gillespie-Fisher method in Julia - Welcome\n",
      "=> Starting the pre-computation stage\n",
      "-> Truncation error given by norm of latest Qs matrix: 1.9968814500797416e-11\n",
      "=> Starting the evolution cycle.\n",
      "-> Starting trajectory 1\n",
      "-> Starting trajectory 2\n",
      "-> Starting trajectory 3\n",
      "-> Starting trajectory 4\n",
      "-> Starting trajectory 5\n",
      "-> Starting trajectory 6\n",
      "-> Starting trajectory 7\n",
      "-> Starting trajectory 8\n",
      "-> Starting trajectory 9\n",
      "-> Starting trajectory 10\n"
     ]
    }
   ],
   "source": [
    "gillespie_fisher(H, Hp, Hm, M_l, Mp_l, Mm_l, dΩ, ψ0, t_final, dt, number_trajectories, false)"
   ]
  },
  {
   "cell_type": "code",
   "execution_count": 107,
   "metadata": {},
   "outputs": [
    {
     "data": {
      "text/plain": [
       "String"
      ]
     },
     "execution_count": 107,
     "metadata": {},
     "output_type": "execute_result"
    }
   ],
   "source": [
    "typeof(\"ciao\")"
   ]
  },
  {
   "cell_type": "code",
   "execution_count": null,
   "metadata": {},
   "outputs": [],
   "source": []
  }
 ],
 "metadata": {
  "kernelspec": {
   "display_name": "Julia 1.7.2",
   "language": "julia",
   "name": "julia-1.7"
  },
  "language_info": {
   "file_extension": ".jl",
   "mimetype": "application/julia",
   "name": "julia",
   "version": "1.7.2"
  }
 },
 "nbformat": 4,
 "nbformat_minor": 4
}
